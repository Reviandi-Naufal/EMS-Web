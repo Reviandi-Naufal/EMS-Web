{
  "nbformat": 4,
  "nbformat_minor": 0,
  "metadata": {
    "colab": {
      "name": "Create_Database.ipynb",
      "provenance": [],
      "collapsed_sections": [],
      "include_colab_link": true
    },
    "kernelspec": {
      "name": "python3",
      "display_name": "Python 3"
    },
    "language_info": {
      "name": "python"
    },
    "accelerator": "GPU"
  },
  "cells": [
    {
      "cell_type": "markdown",
      "metadata": {
        "id": "view-in-github",
        "colab_type": "text"
      },
      "source": [
        "<a href=\"https://colab.research.google.com/github/Reviandi-Naufal/EMS-Web/blob/main/Create_Database_Prediction.ipynb\" target=\"_parent\"><img src=\"https://colab.research.google.com/assets/colab-badge.svg\" alt=\"Open In Colab\"/></a>"
      ]
    },
    {
      "cell_type": "code",
      "metadata": {
        "id": "1mAWJuG0LBTl"
      },
      "source": [
        "import requests\n",
        "import json\n",
        "import pandas as pd"
      ],
      "execution_count": 1,
      "outputs": []
    },
    {
      "cell_type": "code",
      "metadata": {
        "id": "HZNUq-L6LCLD"
      },
      "source": [
        "def Get_Data():\n",
        "    base_url = \"http://213.190.4.40/iems/iems-api/index.php\"\n",
        "    device_token = \"ed991a8d2fabbfc3067416caafdd52f8\"\n",
        "    page = 0\n",
        "    batas = False\n",
        "\n",
        "    api_data_lisrik = []\n",
        "    api_data_device = []\n",
        "    api_data_date = []\n",
        "    api_data_time = []\n",
        "\n",
        "    while (batas == False) :\n",
        "      pull = requests.get(base_url + \"/public/devices/pull?device_token=\" + device_token + \"&page=\" + str(page)).json()\n",
        "      page += 1\n",
        "      if (len(pull[\"data\"])) != 0:\n",
        "        for i in range(len(pull['data'])): \n",
        "          api_data_lisrik.insert(0,float(pull[\"data\"][i][\"ep\"]))\n",
        "          api_data_device.insert(0,pull[\"data\"][i][\"id_m_devices\"])\n",
        "          api_data_date.insert(0,pull[\"data\"][i][\"date\"])\n",
        "          api_data_time.insert(0,pull[\"data\"][i][\"time\"])\n",
        "      else:  \n",
        "        batas = True\n",
        "\n",
        "    dataset = pd.DataFrame({'Date': api_data_date, 'Time': api_data_time,'Device': api_data_device, 'Kwh': api_data_lisrik  })\n",
        "    dataset\n",
        "    return dataset\n"
      ],
      "execution_count": 2,
      "outputs": []
    },
    {
      "cell_type": "code",
      "metadata": {
        "id": "GGa_-7J_LElv"
      },
      "source": [
        "df = Get_Data()"
      ],
      "execution_count": null,
      "outputs": []
    },
    {
      "cell_type": "code",
      "metadata": {
        "colab": {
          "base_uri": "https://localhost:8080/",
          "height": 419
        },
        "id": "fxeZDnGELIvN",
        "outputId": "df901872-c06e-4400-fbb7-f11295fe2eae"
      },
      "source": [
        "df"
      ],
      "execution_count": null,
      "outputs": [
        {
          "output_type": "execute_result",
          "data": {
            "text/html": [
              "<div>\n",
              "<style scoped>\n",
              "    .dataframe tbody tr th:only-of-type {\n",
              "        vertical-align: middle;\n",
              "    }\n",
              "\n",
              "    .dataframe tbody tr th {\n",
              "        vertical-align: top;\n",
              "    }\n",
              "\n",
              "    .dataframe thead th {\n",
              "        text-align: right;\n",
              "    }\n",
              "</style>\n",
              "<table border=\"1\" class=\"dataframe\">\n",
              "  <thead>\n",
              "    <tr style=\"text-align: right;\">\n",
              "      <th></th>\n",
              "      <th>Date</th>\n",
              "      <th>Time</th>\n",
              "      <th>Device</th>\n",
              "      <th>Kwh</th>\n",
              "    </tr>\n",
              "  </thead>\n",
              "  <tbody>\n",
              "    <tr>\n",
              "      <th>0</th>\n",
              "      <td>2021-08-10</td>\n",
              "      <td>18:01:17</td>\n",
              "      <td>7</td>\n",
              "      <td>0.0</td>\n",
              "    </tr>\n",
              "    <tr>\n",
              "      <th>1</th>\n",
              "      <td>2021-08-10</td>\n",
              "      <td>18:12:34</td>\n",
              "      <td>7</td>\n",
              "      <td>2.0</td>\n",
              "    </tr>\n",
              "    <tr>\n",
              "      <th>2</th>\n",
              "      <td>2021-08-10</td>\n",
              "      <td>18:17:39</td>\n",
              "      <td>7</td>\n",
              "      <td>2.0</td>\n",
              "    </tr>\n",
              "    <tr>\n",
              "      <th>3</th>\n",
              "      <td>2021-08-10</td>\n",
              "      <td>18:22:43</td>\n",
              "      <td>7</td>\n",
              "      <td>2.0</td>\n",
              "    </tr>\n",
              "    <tr>\n",
              "      <th>4</th>\n",
              "      <td>2021-08-10</td>\n",
              "      <td>18:27:48</td>\n",
              "      <td>7</td>\n",
              "      <td>2.0</td>\n",
              "    </tr>\n",
              "    <tr>\n",
              "      <th>...</th>\n",
              "      <td>...</td>\n",
              "      <td>...</td>\n",
              "      <td>...</td>\n",
              "      <td>...</td>\n",
              "    </tr>\n",
              "    <tr>\n",
              "      <th>8912</th>\n",
              "      <td>2021-10-21</td>\n",
              "      <td>12:46:27</td>\n",
              "      <td>7</td>\n",
              "      <td>5890.0</td>\n",
              "    </tr>\n",
              "    <tr>\n",
              "      <th>8913</th>\n",
              "      <td>2021-10-21</td>\n",
              "      <td>12:51:31</td>\n",
              "      <td>7</td>\n",
              "      <td>5891.0</td>\n",
              "    </tr>\n",
              "    <tr>\n",
              "      <th>8914</th>\n",
              "      <td>2021-10-21</td>\n",
              "      <td>12:56:36</td>\n",
              "      <td>7</td>\n",
              "      <td>5892.0</td>\n",
              "    </tr>\n",
              "    <tr>\n",
              "      <th>8915</th>\n",
              "      <td>2021-10-21</td>\n",
              "      <td>13:01:40</td>\n",
              "      <td>7</td>\n",
              "      <td>5893.0</td>\n",
              "    </tr>\n",
              "    <tr>\n",
              "      <th>8916</th>\n",
              "      <td>2021-10-21</td>\n",
              "      <td>13:06:45</td>\n",
              "      <td>7</td>\n",
              "      <td>5894.0</td>\n",
              "    </tr>\n",
              "  </tbody>\n",
              "</table>\n",
              "<p>8917 rows × 4 columns</p>\n",
              "</div>"
            ],
            "text/plain": [
              "            Date      Time Device     Kwh\n",
              "0     2021-08-10  18:01:17      7     0.0\n",
              "1     2021-08-10  18:12:34      7     2.0\n",
              "2     2021-08-10  18:17:39      7     2.0\n",
              "3     2021-08-10  18:22:43      7     2.0\n",
              "4     2021-08-10  18:27:48      7     2.0\n",
              "...          ...       ...    ...     ...\n",
              "8912  2021-10-21  12:46:27      7  5890.0\n",
              "8913  2021-10-21  12:51:31      7  5891.0\n",
              "8914  2021-10-21  12:56:36      7  5892.0\n",
              "8915  2021-10-21  13:01:40      7  5893.0\n",
              "8916  2021-10-21  13:06:45      7  5894.0\n",
              "\n",
              "[8917 rows x 4 columns]"
            ]
          },
          "metadata": {},
          "execution_count": 4
        }
      ]
    },
    {
      "cell_type": "code",
      "metadata": {
        "id": "bHLG70zfW6B6"
      },
      "source": [
        "def Get_Current_Data():\n",
        "  base_url = \"http://213.190.4.40/iems/iems-api/index.php\"\n",
        "  device_token = \"ed991a8d2fabbfc3067416caafdd52f8\"\n",
        "  api_data_lisrik = []\n",
        "  api_data_device = []\n",
        "  api_data_date = []\n",
        "  api_data_time = []\n",
        "  response = requests.get(base_url + \"/public/devices/last?device_token=\" + device_token)\n",
        "  data = json.loads(response.text)\n",
        "  dataset = pd.DataFrame(data['data'],index=[0])\n",
        "  return dataset\n",
        "      "
      ],
      "execution_count": null,
      "outputs": []
    },
    {
      "cell_type": "code",
      "metadata": {
        "id": "vo4jUuYuZN7N"
      },
      "source": [
        "df_now = Get_Current_Data()"
      ],
      "execution_count": null,
      "outputs": []
    },
    {
      "cell_type": "code",
      "metadata": {
        "colab": {
          "base_uri": "https://localhost:8080/",
          "height": 80
        },
        "id": "mdV5vqitZjCG",
        "outputId": "adfd6e60-ba74-430e-ab7f-fc1d0c30c893"
      },
      "source": [
        "df_now"
      ],
      "execution_count": null,
      "outputs": [
        {
          "output_type": "execute_result",
          "data": {
            "text/html": [
              "<div>\n",
              "<style scoped>\n",
              "    .dataframe tbody tr th:only-of-type {\n",
              "        vertical-align: middle;\n",
              "    }\n",
              "\n",
              "    .dataframe tbody tr th {\n",
              "        vertical-align: top;\n",
              "    }\n",
              "\n",
              "    .dataframe thead th {\n",
              "        text-align: right;\n",
              "    }\n",
              "</style>\n",
              "<table border=\"1\" class=\"dataframe\">\n",
              "  <thead>\n",
              "    <tr style=\"text-align: right;\">\n",
              "      <th></th>\n",
              "      <th>id</th>\n",
              "      <th>id_m_devices</th>\n",
              "      <th>va</th>\n",
              "      <th>vb</th>\n",
              "      <th>vc</th>\n",
              "      <th>vab</th>\n",
              "      <th>vbc</th>\n",
              "      <th>vca</th>\n",
              "      <th>ia</th>\n",
              "      <th>ib</th>\n",
              "      <th>ic</th>\n",
              "      <th>pa</th>\n",
              "      <th>pb</th>\n",
              "      <th>pc</th>\n",
              "      <th>pt</th>\n",
              "      <th>qa</th>\n",
              "      <th>qb</th>\n",
              "      <th>qc</th>\n",
              "      <th>qt</th>\n",
              "      <th>sa</th>\n",
              "      <th>sb</th>\n",
              "      <th>sc</th>\n",
              "      <th>st</th>\n",
              "      <th>pfa</th>\n",
              "      <th>pfb</th>\n",
              "      <th>pfc</th>\n",
              "      <th>freq</th>\n",
              "      <th>ep</th>\n",
              "      <th>eq</th>\n",
              "      <th>date</th>\n",
              "      <th>time</th>\n",
              "    </tr>\n",
              "  </thead>\n",
              "  <tbody>\n",
              "    <tr>\n",
              "      <th>0</th>\n",
              "      <td>118669</td>\n",
              "      <td>7</td>\n",
              "      <td>228.7</td>\n",
              "      <td>231.4</td>\n",
              "      <td>229.6</td>\n",
              "      <td>0</td>\n",
              "      <td>0</td>\n",
              "      <td>0</td>\n",
              "      <td>9.12</td>\n",
              "      <td>8.16</td>\n",
              "      <td>13.12</td>\n",
              "      <td>2.03</td>\n",
              "      <td>1.84</td>\n",
              "      <td>2.85</td>\n",
              "      <td>1.03</td>\n",
              "      <td>0</td>\n",
              "      <td>0</td>\n",
              "      <td>0</td>\n",
              "      <td>0.76</td>\n",
              "      <td>2.03</td>\n",
              "      <td>1.83</td>\n",
              "      <td>2.95</td>\n",
              "      <td>1.25</td>\n",
              "      <td>1</td>\n",
              "      <td>1</td>\n",
              "      <td>0.96</td>\n",
              "      <td>50</td>\n",
              "      <td>6101</td>\n",
              "      <td>1.47</td>\n",
              "      <td>2021-10-23</td>\n",
              "      <td>13:35:02</td>\n",
              "    </tr>\n",
              "  </tbody>\n",
              "</table>\n",
              "</div>"
            ],
            "text/plain": [
              "       id id_m_devices     va     vb  ...    ep    eq        date      time\n",
              "0  118669            7  228.7  231.4  ...  6101  1.47  2021-10-23  13:35:02\n",
              "\n",
              "[1 rows x 31 columns]"
            ]
          },
          "metadata": {},
          "execution_count": 23
        }
      ]
    }
  ]
}